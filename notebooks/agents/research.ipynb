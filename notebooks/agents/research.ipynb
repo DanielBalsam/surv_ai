{
 "cells": [
  {
   "cell_type": "code",
   "execution_count": 1,
   "metadata": {},
   "outputs": [],
   "source": [
    "import os\n",
    "import sys\n",
    "module_path = os.path.abspath(os.path.join('../..'))\n",
    "if module_path not in sys.path:\n",
    "    sys.path.append(module_path)"
   ]
  },
  {
   "cell_type": "code",
   "execution_count": 2,
   "metadata": {},
   "outputs": [],
   "source": [
    "from lib.language.gpt import GPTClient\n",
    "from dotenv import load_dotenv\n",
    "from lib.language.interfaces import Prompt, PromptMessage\n",
    "import os\n",
    "\n",
    "load_dotenv()\n",
    "\n",
    "API_KEY = os.environ[\"OPEN_AI_API_KEY\"]\n",
    "\n",
    "client = GPTClient(API_KEY)\n"
   ]
  },
  {
   "cell_type": "code",
   "execution_count": 4,
   "metadata": {},
   "outputs": [
    {
     "name": "stdout",
     "output_type": "stream",
     "text": [
      "\u001b[90m\u001b[2m...Agent is using tool NewsMediaTool with args 'Bitcoin investment'...\n",
      "{'kind': 'customsearch#search', 'url': {'type': 'application/json', 'template': 'https://www.googleapis.com/customsearch/v1?q={searchTerms}&num={count?}&start={startIndex?}&lr={language?}&safe={safe?}&cx={cx?}&sort={sort?}&filter={filter?}&gl={gl?}&cr={cr?}&googlehost={googleHost?}&c2coff={disableCnTwTranslation?}&hq={hq?}&hl={hl?}&siteSearch={siteSearch?}&siteSearchFilter={siteSearchFilter?}&exactTerms={exactTerms?}&excludeTerms={excludeTerms?}&linkSite={linkSite?}&orTerms={orTerms?}&relatedSite={relatedSite?}&dateRestrict={dateRestrict?}&lowRange={lowRange?}&highRange={highRange?}&searchType={searchType}&fileType={fileType?}&rights={rights?}&imgSize={imgSize?}&imgType={imgType?}&imgColorType={imgColorType?}&imgDominantColor={imgDominantColor?}&alt=json'}, 'queries': {'request': [{'title': 'Google Custom Search - Bitcoin investment after:2021-09-01 before:2022-01-01', 'totalResults': '21900', 'searchTerms': 'Bitcoin investment after:2021-09-01 before:2022-01-01', 'count': 1, 'startIndex': 1, 'inputEncoding': 'utf8', 'outputEncoding': 'utf8', 'safe': 'off', 'cx': '35094b912b43b48ad'}], 'nextPage': [{'title': 'Google Custom Search - Bitcoin investment after:2021-09-01 before:2022-01-01', 'totalResults': '21900', 'searchTerms': 'Bitcoin investment after:2021-09-01 before:2022-01-01', 'count': 1, 'startIndex': 2, 'inputEncoding': 'utf8', 'outputEncoding': 'utf8', 'safe': 'off', 'cx': '35094b912b43b48ad'}]}, 'context': {'title': 'research'}, 'searchInformation': {'searchTime': 0.237666, 'formattedSearchTime': '0.24', 'totalResults': '21900', 'formattedTotalResults': '21,900'}, 'items': [{'kind': 'customsearch#result', 'title': 'Why it is wise to add bitcoin to an investment portfolio | The Economist', 'htmlTitle': 'Why it is wise to add <b>bitcoin</b> to an <b>investment</b> portfolio | The Economist', 'link': 'https://www.economist.com/finance-and-economics/2021/09/25/why-it-is-wise-to-add-bitcoin-to-an-investment-portfolio', 'displayLink': 'www.economist.com', 'snippet': 'Sep 25, 2021 ... An investor seeking high returns without volatility might not gravitate towards cryptocurrencies, like bitcoin, given that they often plunge and soar in value.', 'htmlSnippet': 'Sep 25, 2021 <b>...</b> An <b>investor</b> seeking high returns without volatility might not gravitate towards cryptocurrencies, like <b>bitcoin</b>, given that they often plunge and soar in value.', 'cacheId': 'GHqLUI-WUn8J', 'formattedUrl': 'https://www.economist.com/.../why-it-is-wise-to-add-bitcoin-to-an-investment -portfolio', 'htmlFormattedUrl': 'https://www.economist.com/.../why-it-is-wise-to-add-<b>bitcoin</b>-to-an-<b>investment</b> -portfolio', 'pagemap': {'cse_thumbnail': [{'src': 'https://encrypted-tbn2.gstatic.com/images?q=tbn:ANd9GcRRc1EPgcg3NYmSAEkIPcoNUsnDii61mGvgwFVgHDzk0l3xO3tLbSN0i_I', 'width': '300', 'height': '168'}], 'thumbnail': [{'src': 'https://www.economist.com/img/b/1280/720/90/sites/default/files/images/print-edition/20210925_FND002_0.jpg'}], 'metatags': [{'msapplication-tilecolor': '#E3120B', 'application-name': 'The Economist', 'og:image': 'https://www.economist.com/img/b/1280/720/90/sites/default/files/images/print-edition/20210925_FND002_0.jpg', 'theme-color': '#E3120B', 'thumbnail': 'https://www.economist.com/img/b/1280/720/90/sites/default/files/images/print-edition/20210925_FND002_0.jpg', 'og:type': 'Article', 'twitter:card': 'summary_large_image', 'og:site_name': 'The Economist', 'parsely-post-id': 'ab3p89seerg2sst4enn37ql4ssqfuo7c', 'msapplication-tooltip': 'The Economist', 'og:title': 'Why it is wise to add bitcoin to an investment portfolio', 'msapplication-tileimage': '/engassets/ico/tile-144.png', 'og:description': 'It is a Nobel prize-winning diversification strategy', 'fb:pages': '6013004059,1487031108050752', 'twitter:image': 'https://www.economist.com/img/b/1280/720/90/sites/default/files/images/print-edition/20210925_FND002_0.jpg', 'next-head-count': '37', 'fb:app_id': '193926687345108', 'twitter:site': '@TheEconomist', 'viewport': 'width=device-width', 'twitter:description': 'It is a Nobel prize-winning diversification strategy', 'og:url': 'https://www.economist.com/finance-and-economics/2021/09/25/why-it-is-wise-to-add-bitcoin-to-an-investment-portfolio'}], 'cse_image': [{'src': 'https://www.economist.com/img/b/1280/720/90/sites/default/files/images/print-edition/20210925_FND002_0.jpg'}]}}]}\n",
      "\u001b[90m\u001b[2m......Retrieving The Economist article with title Why it is wise to add bitcoin to an investment portfolio......\n",
      "\u001b[90m\u001b[2mResearchAgent learned: The Economist article entitled \"Why it is wise to add bitcoin to an investment portfolio\": - Diversification is important in a portfolio, and Harry Markowitz's Modern Portfolio Theory provides a framework for choosing an optimal spread of assets.\n",
      "- High and dependable return assets should feature heavily in a sensible portfolio, but diversification can reduce volatility without sacrificing returns.\n",
      "- Bitcoin has high average returns and tends to move independently of other assets, making it an excellent potential source of diversification.\n",
      "- An optimal portfolio may contain a 1-5% allocation to bitcoin, as even a small allocation can display better risk-reward characteristics than not having any allocation at all.\n",
      "- However, investing in bitcoin comes with its own set of risks and challenges, including volatility, lack of information and regulation, and environmental concerns.\n",
      "- Past performance does not always indicate future returns, and it is unclear what drives bitcoin's returns besides speculation.\n",
      "\u001b[1m\u001b[33mResearcher: Based on my research, I have found that investing in Bitcoin can be a good idea for diversification purposes. The Economist article suggests that a small allocation of 1-5% to Bitcoin can improve the risk-reward characteristics of a portfolio. Additionally, Bitcoin has high average returns and tends to move independently of other assets, which makes it an excellent potential source of diversification.\n",
      "\n",
      "However, there are also risks associated with investing in Bitcoin. The article mentions the volatility of Bitcoin, lack of information and regulation, and environmental concerns. It is also unclear what drives Bitcoin's returns besides speculation, and past performance does not always indicate future returns.\n",
      "\n",
      "Taking all of this into consideration, I believe that the statement \"It is currently a good time to invest in Bitcoin\" is more likely to be true than false. While there are risks associated with investing in Bitcoin, the potential benefits of diversification and high average returns make it a viable investment option. However, it is important to approach Bitcoin investment with caution and to carefully consider the risks and challenges involved.\n"
     ]
    },
    {
     "data": {
      "text/plain": [
       "'True.'"
      ]
     },
     "execution_count": 4,
     "metadata": {},
     "output_type": "execute_result"
    }
   ],
   "source": [
    "from core.agent.research import ResearchAgent\n",
    "from core.tools.toolbelt import Toolbelt\n",
    "from core.tools.research.news_media import NewsMediaTool\n",
    "from core.conversation.conversation import Conversation\n",
    "from lib.agent_log import agent_log, AgentLogLevel\n",
    "\n",
    "agent_log.set_log_level(AgentLogLevel.THOUGHT)\n",
    "\n",
    "agent = ResearchAgent(client, toolbelt=Toolbelt(client, [NewsMediaTool(client, n_pages=1, start_date=\"2021-09-01\", end_date=\"2022-01-01\")]), _hyperparameters={\"temperature\": 0.4})\n",
    "\n",
    "conversation = Conversation()\n",
    "response = await agent.prompt(\"It is currently a good time to invest in Bitcoin.\", conversation)\n",
    "conversation.add(response, \"Researcher\", agent._color)\n",
    "\n",
    "from core.agent.binary import BinaryAgent\n",
    "\n",
    "\n",
    "binary_agent = BinaryAgent(client, _hyperparameters={\"temperature\": 0.2})\n",
    "\n",
    "decision = await binary_agent.prompt(\"It is currently a good time to invest in Bitcoin.\", conversation)\n",
    "decision\n"
   ]
  },
  {
   "cell_type": "code",
   "execution_count": null,
   "metadata": {},
   "outputs": [],
   "source": []
  }
 ],
 "metadata": {
  "kernelspec": {
   "display_name": "superintelligence-kEKUOLhR-py3.11",
   "language": "python",
   "name": "python3"
  },
  "language_info": {
   "codemirror_mode": {
    "name": "ipython",
    "version": 3
   },
   "file_extension": ".py",
   "mimetype": "text/x-python",
   "name": "python",
   "nbconvert_exporter": "python",
   "pygments_lexer": "ipython3",
   "version": "3.11.3"
  },
  "orig_nbformat": 4
 },
 "nbformat": 4,
 "nbformat_minor": 2
}
