{
 "cells": [
  {
   "cell_type": "code",
   "execution_count": 1,
   "metadata": {},
   "outputs": [],
   "source": [
    "import os\n",
    "import sys\n",
    "module_path = os.path.abspath(os.path.join('../..'))\n",
    "if module_path not in sys.path:\n",
    "    sys.path.append(module_path)"
   ]
  },
  {
   "cell_type": "code",
   "execution_count": 2,
   "metadata": {},
   "outputs": [],
   "source": [
    "from lib.language.gpt import GPTClient\n",
    "from dotenv import load_dotenv\n",
    "from lib.language.interfaces import Prompt, PromptMessage\n",
    "import os\n",
    "\n",
    "load_dotenv()\n",
    "\n",
    "API_KEY = os.environ[\"OPEN_AI_API_KEY\"]\n",
    "\n",
    "client = GPTClient(API_KEY, temperature=0.1, model=\"gpt-3.5-turbo-0301\")\n"
   ]
  },
  {
   "cell_type": "code",
   "execution_count": 3,
   "metadata": {},
   "outputs": [
    {
     "data": {
      "text/plain": [
       "[\"I'm sorry, as an AI language model, I do not have access to real-time information and cannot provide you with the current date. Please check your device or search engine for the current date.\"]"
      ]
     },
     "execution_count": 3,
     "metadata": {},
     "output_type": "execute_result"
    }
   ],
   "source": [
    "prompt = Prompt(\n",
    "    messages=[\n",
    "        PromptMessage(role=\"user\", content=\"What's the date?\"),\n",
    "    ]\n",
    ")\n",
    "\n",
    "await client.get_completions([prompt])"
   ]
  },
  {
   "cell_type": "code",
   "execution_count": 4,
   "metadata": {},
   "outputs": [
    {
     "data": {
      "text/plain": [
       "\"Today's date is April 17th, 2023.\""
      ]
     },
     "execution_count": 4,
     "metadata": {},
     "output_type": "execute_result"
    }
   ],
   "source": [
    "from core.agent import ResearchAgent\n",
    "from datetime import datetime, timedelta\n",
    "\n",
    "agent = ResearchAgent(client)\n",
    "\n",
    "await agent.teach(f\"Today's date is {datetime.now().strftime('%B %dth, %Y')}.\")\n",
    "await agent.teach(f\"Yesterday's date is {(datetime.now() - timedelta(days=1)).strftime('%B %dth, %Y')}.\")\n",
    "await agent.teach(f\"Tomorrow's date is {(datetime.now() + timedelta(days=1)).strftime('%B %dth, %Y')}.\")\n",
    "await agent.teach(f\"The sky is blue.\")\n",
    "await agent.teach(f\"Squirrels are cute\")\n",
    "await agent.teach(f\"Programming is fun\")\n",
    "await agent.teach(f\"Python is a great programming language\")\n",
    "await agent.teach(f\"Pandas is a great Python library\")\n",
    "await agent.teach(f\"Eating healthy is important\")\n",
    "await agent.teach(f\"Pizza is delicious\")\n",
    "\n",
    "await agent.prompt(\"What's the date?\")"
   ]
  },
  {
   "cell_type": "code",
   "execution_count": 5,
   "metadata": {},
   "outputs": [
    {
     "data": {
      "text/plain": [
       "'Based on the information I found, some controversial areas of research in machine learning include ethics, bias, privacy, and interpretability. There are concerns about racial and gender bias in image recognition algorithms, the black-box nature of neural networks, and the potential misuse of transfer learning. Some approaches to addressing these issues include data preprocessing, adding constraints to optimization objectives, and improving interpretability.'"
      ]
     },
     "execution_count": 5,
     "metadata": {},
     "output_type": "execute_result"
    }
   ],
   "source": [
    "from core.tools.research.wikipedia import WikipediaTool\n",
    "from core.tools.toolbelt import Toolbelt\n",
    "\n",
    "agent = ResearchAgent(client, toolbelt=Toolbelt(client, tools=[WikipediaTool(client, n_pages=5)]))\n",
    "\n",
    "await agent.prompt(\"what are some controversial area of research in machine learning?\")"
   ]
  },
  {
   "cell_type": "code",
   "execution_count": 6,
   "metadata": {},
   "outputs": [
    {
     "data": {
      "text/plain": [
       "'Fairness in machine learning is controversial because machine learning algorithms can perpetuate societal biases and prejudices if they are trained on biased data. This can lead to discriminatory outcomes, particularly when sensitive variables such as gender, ethnicity, and disability are involved. There are also debates around the definitions of fairness and bias, and different approaches to improving fairness in machine learning algorithms.'"
      ]
     },
     "execution_count": 6,
     "metadata": {},
     "output_type": "execute_result"
    }
   ],
   "source": [
    "await agent.prompt(\"why is fairness in machine learning controversial?\")"
   ]
  },
  {
   "cell_type": "code",
   "execution_count": 7,
   "metadata": {},
   "outputs": [
    {
     "data": {
      "text/plain": [
       "'Bias refers to the presence of unfairness or prejudice in a decision-making process, while fairness refers to the absence of such biases. In the context of machine learning, bias can lead to unfair outcomes and perpetuate societal prejudices, while fairness is a controversial topic with different definitions being debated. Efforts to improve fairness in machine learning algorithms include data preprocessing, optimization during software training, and post-processing results of the algorithm.'"
      ]
     },
     "execution_count": 7,
     "metadata": {},
     "output_type": "execute_result"
    }
   ],
   "source": [
    "await agent.prompt(\"what is the difference between bias and fairness?\")"
   ]
  },
  {
   "cell_type": "code",
   "execution_count": 8,
   "metadata": {},
   "outputs": [
    {
     "data": {
      "text/plain": [
       "'Margaret Mitchell was an American author known for writing the novel \"Gone with the Wind.\" She lived in Atlanta, Georgia and wrote the majority of her Pulitzer Prize-winning novel in the Margaret Mitchell House, which is now a historic house museum. Additionally, there are other individuals named Margaret Mitchell, but they are not mentioned in the text.'"
      ]
     },
     "execution_count": 8,
     "metadata": {},
     "output_type": "execute_result"
    }
   ],
   "source": [
    "await agent.prompt(\"who is margaret mitchell?\")"
   ]
  },
  {
   "cell_type": "code",
   "execution_count": 9,
   "metadata": {},
   "outputs": [
    {
     "data": {
      "text/plain": [
       "'Eliezer Yudkowsky is an American writer and researcher known for his work on decision theory and ethics, particularly in the area of friendly artificial intelligence. He is a co-founder and research fellow at the Machine Intelligence Research Institute (MIRI) and has contributed to the development of mechanisms for evolving AI under a system of checks and balances. He is also the author of the popular Harry Potter fan fiction \"Harry Potter and the Methods of Rationality.\"'"
      ]
     },
     "execution_count": 9,
     "metadata": {},
     "output_type": "execute_result"
    }
   ],
   "source": [
    "await agent.prompt(\"who is Eliezer Yudkowsky?\")"
   ]
  },
  {
   "cell_type": "code",
   "execution_count": 10,
   "metadata": {},
   "outputs": [
    {
     "data": {
      "text/plain": [
       "'Both Margaret Mitchell and Eliezer Yudkowsky have worked on issues related to ethics, bias, and interpretability. Mitchell focused on algorithmic bias and fairness in machine learning, while Yudkowsky has worked on friendly artificial intelligence and the risks associated with an intelligence explosion.'"
      ]
     },
     "execution_count": 10,
     "metadata": {},
     "output_type": "execute_result"
    }
   ],
   "source": [
    "await agent.prompt(\"what is one thing Margaret Mitchell have in common with Eliazer Yudkowsky?\")"
   ]
  }
 ],
 "metadata": {
  "kernelspec": {
   "display_name": "superintelligence-kEKUOLhR-py3.11",
   "language": "python",
   "name": "python3"
  },
  "language_info": {
   "codemirror_mode": {
    "name": "ipython",
    "version": 3
   },
   "file_extension": ".py",
   "mimetype": "text/x-python",
   "name": "python",
   "nbconvert_exporter": "python",
   "pygments_lexer": "ipython3",
   "version": "3.11.3"
  },
  "orig_nbformat": 4
 },
 "nbformat": 4,
 "nbformat_minor": 2
}
