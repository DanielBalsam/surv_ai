{
 "cells": [
  {
   "cell_type": "code",
   "execution_count": 1,
   "metadata": {},
   "outputs": [],
   "source": [
    "import os\n",
    "import sys\n",
    "module_path = os.path.abspath(os.path.join('../..'))\n",
    "if module_path not in sys.path:\n",
    "    sys.path.append(module_path)"
   ]
  },
  {
   "cell_type": "code",
   "execution_count": 2,
   "metadata": {},
   "outputs": [],
   "source": [
    "from lib.language.gpt import GPTClient\n",
    "from dotenv import load_dotenv\n",
    "from lib.language.interfaces import Prompt, PromptMessage\n",
    "import os\n",
    "\n",
    "load_dotenv()\n",
    "\n",
    "API_KEY = os.environ[\"OPEN_AI_API_KEY\"]\n",
    "\n",
    "client = GPTClient(API_KEY, model=\"gpt-3.5-turbo-0301\")\n"
   ]
  },
  {
   "cell_type": "code",
   "execution_count": 3,
   "metadata": {},
   "outputs": [
    {
     "data": {
      "text/plain": [
       "'There are concerns about a potential recession in the US economy due to the banking crisis of March 2023 as well as the International Monetary Fund downgrading its forecast for GDP growth globally in 2023. However, there is no definite information that predicts whether the US economy will experience a recession in 2023.'"
      ]
     },
     "execution_count": 3,
     "metadata": {},
     "output_type": "execute_result"
    }
   ],
   "source": [
    "from core.tools.research.wikipedia import WikipediaTool\n",
    "from core.tools.toolbelt import Toolbelt\n",
    "from core.agent.research import ResearchAgent\n",
    "from core.agent.skeptic import SkepticAgent\n",
    "\n",
    "research_agent = ResearchAgent(\n",
    "    client,\n",
    "    self_memory=False,\n",
    "    toolbelt=Toolbelt(\n",
    "        client,\n",
    "        tools=[WikipediaTool(client, n_pages=5)]\n",
    "    )\n",
    ")\n",
    "skeptic_agent = SkepticAgent(\n",
    "    client,\n",
    "    toolbelt=Toolbelt(\n",
    "        client,\n",
    "        tools=[WikipediaTool(client, n_pages=5)]\n",
    "    ),\n",
    "    _hyperparameters={\"presence_penalty\": -1}\n",
    ")\n",
    "\n",
    "assertion = await research_agent.prompt(\"Will the US economy experience a recession in 2023?\")\n",
    "assertion"
   ]
  },
  {
   "cell_type": "code",
   "execution_count": 4,
   "metadata": {},
   "outputs": [
    {
     "data": {
      "text/plain": [
       "'What factors besides the banking crisis and IMF forecast could potentially impact the likelihood of a recession in the US economy?'"
      ]
     },
     "execution_count": 4,
     "metadata": {},
     "output_type": "execute_result"
    }
   ],
   "source": [
    "inquery = await skeptic_agent.prompt(assertion)\n",
    "inquery"
   ]
  },
  {
   "cell_type": "code",
   "execution_count": 5,
   "metadata": {},
   "outputs": [
    {
     "data": {
      "text/plain": [
       "'Commodity price shocks and rising oil prices are two factors that could potentially impact the likelihood of a recession in the US economy. Additionally, mismanaged transitions from command to market economies and fluctuations in credit, interest rates, and financial frailty could contribute to prolonged depressions. The occurrence of a global banking crisis is also a concern for potential economic recession.'"
      ]
     },
     "execution_count": 5,
     "metadata": {},
     "output_type": "execute_result"
    }
   ],
   "source": [
    "assertion = await research_agent.prompt(inquery)\n",
    "assertion"
   ]
  },
  {
   "cell_type": "code",
   "execution_count": 6,
   "metadata": {},
   "outputs": [
    {
     "data": {
      "text/plain": [
       "'Can you provide any concrete examples of commodity price shocks or rising oil prices that have specifically contributed to a US recession in the past?'"
      ]
     },
     "execution_count": 6,
     "metadata": {},
     "output_type": "execute_result"
    }
   ],
   "source": [
    "inquery = await skeptic_agent.prompt(assertion)\n",
    "inquery"
   ]
  },
  {
   "cell_type": "code",
   "execution_count": 7,
   "metadata": {},
   "outputs": [
    {
     "data": {
      "text/plain": [
       "'The 1970s and early 1980s saw two significant oil price shocks that contributed to recessions in the US economy. The 1973 Oil Crisis was primarily caused by the decision of OPEC members to cut oil exports to countries that supported Israel, and the 1979 Energy Crisis was triggered by the Iranian Revolution and subsequent cuts in oil exports. These events led to significant increases in oil prices, which had a negative impact on the US economy.'"
      ]
     },
     "execution_count": 7,
     "metadata": {},
     "output_type": "execute_result"
    }
   ],
   "source": [
    "assertion = await research_agent.prompt(inquery)\n",
    "assertion"
   ]
  },
  {
   "cell_type": "code",
   "execution_count": 8,
   "metadata": {},
   "outputs": [
    {
     "data": {
      "text/plain": [
       "'What evidence supports the claim that the oil price shocks directly caused the recessions in the US economy?'"
      ]
     },
     "execution_count": 8,
     "metadata": {},
     "output_type": "execute_result"
    }
   ],
   "source": [
    "inquery = await skeptic_agent.prompt(assertion)\n",
    "inquery"
   ]
  },
  {
   "cell_type": "code",
   "execution_count": 9,
   "metadata": {},
   "outputs": [
    {
     "data": {
      "text/plain": [
       "'There is no direct evidence provided to support the claim that oil price shocks directly caused recessions in the US economy. While the 1973 \"oil price shock\" is held responsible for recessions, periods of excessive inflation, reduced productivity, and lower economic growth, its effects were not seen as direct causes of recession. The impact of rising oil prices on the likelihood of a recession is generally seen as one of several contributing factors to a complex system.'"
      ]
     },
     "execution_count": 9,
     "metadata": {},
     "output_type": "execute_result"
    }
   ],
   "source": [
    "assertion = await research_agent.prompt(inquery)\n",
    "assertion"
   ]
  },
  {
   "cell_type": "code",
   "execution_count": 10,
   "metadata": {},
   "outputs": [
    {
     "data": {
      "text/plain": [
       "'Can you provide examples of other contributing factors that are generally seen to have an impact on recessions besides rising oil prices?'"
      ]
     },
     "execution_count": 10,
     "metadata": {},
     "output_type": "execute_result"
    }
   ],
   "source": [
    "inquery = await skeptic_agent.prompt(assertion)\n",
    "inquery"
   ]
  },
  {
   "cell_type": "code",
   "execution_count": 11,
   "metadata": {},
   "outputs": [
    {
     "data": {
      "text/plain": [
       "'There are various factors that can contribute to a recession, including declines in economic activity such as consumption, investment, government spending, and net export activity, as well as external shocks like wars, natural disasters, and commodity price shocks. Restrictive monetary policies, loss of consumer and business confidence, real estate overbuilding, and reduction of investment incentives are also factors that can contribute to a recession. The COVID-19 pandemic has also had a significant impact on the global economy and led to a recession.'"
      ]
     },
     "execution_count": 11,
     "metadata": {},
     "output_type": "execute_result"
    }
   ],
   "source": [
    "assertion = await research_agent.prompt(inquery)\n",
    "assertion"
   ]
  },
  {
   "cell_type": "code",
   "execution_count": 12,
   "metadata": {},
   "outputs": [
    {
     "data": {
      "text/plain": [
       "'What are some examples of external shocks that can trigger a recession?'"
      ]
     },
     "execution_count": 12,
     "metadata": {},
     "output_type": "execute_result"
    }
   ],
   "source": [
    "inquery = await skeptic_agent.prompt(assertion)\n",
    "inquery"
   ]
  },
  {
   "cell_type": "code",
   "execution_count": 13,
   "metadata": {},
   "outputs": [
    {
     "data": {
      "text/plain": [
       "'External shocks that can trigger a recession include financial crises, trade shocks, supply shocks, economic bubbles bursting, natural disasters, commodity price shocks, or wars.'"
      ]
     },
     "execution_count": 13,
     "metadata": {},
     "output_type": "execute_result"
    }
   ],
   "source": [
    "assertion = await research_agent.prompt(inquery)\n",
    "assertion"
   ]
  },
  {
   "cell_type": "code",
   "execution_count": 14,
   "metadata": {},
   "outputs": [
    {
     "data": {
      "text/plain": [
       "'Can you provide an example of a financial crisis that has triggered a recession in the past?'"
      ]
     },
     "execution_count": 14,
     "metadata": {},
     "output_type": "execute_result"
    }
   ],
   "source": [
    "inquery = await skeptic_agent.prompt(assertion)\n",
    "inquery"
   ]
  },
  {
   "cell_type": "code",
   "execution_count": 15,
   "metadata": {},
   "outputs": [
    {
     "data": {
      "text/plain": [
       "'Yes, one example of a financial crisis that triggered a recession in the past is the subprime mortgage crisis in the United States, which led to the Great Recession that began in late 2007. This crisis was caused by a combination of factors, including lax lending standards and inadequate regulation of the financial sector.'"
      ]
     },
     "execution_count": 15,
     "metadata": {},
     "output_type": "execute_result"
    }
   ],
   "source": [
    "assertion = await research_agent.prompt(inquery)\n",
    "assertion"
   ]
  },
  {
   "cell_type": "code",
   "execution_count": 16,
   "metadata": {},
   "outputs": [
    {
     "data": {
      "text/plain": [
       "'There is some evidence to suggest that the US economy may experience a recession in 2023 due to a banking crisis that occurred in March of that year. The IMF has downgraded its GDP growth forecast, and many regional and community banks have had to reduce lending. However, it is impossible to say for certain whether a recession will occur.'"
      ]
     },
     "execution_count": 16,
     "metadata": {},
     "output_type": "execute_result"
    }
   ],
   "source": [
    "assertion = await research_agent.prompt(\"Will the US economy experience a recession in 2023?\")\n",
    "assertion"
   ]
  },
  {
   "cell_type": "code",
   "execution_count": 17,
   "metadata": {},
   "outputs": [
    {
     "data": {
      "text/plain": [
       "'What are some potential factors that could mitigate the impact of the banking crisis on the US economy and prevent a recession in 2023?'"
      ]
     },
     "execution_count": 17,
     "metadata": {},
     "output_type": "execute_result"
    }
   ],
   "source": [
    "inquery = await skeptic_agent.prompt(assertion)\n",
    "inquery"
   ]
  },
  {
   "cell_type": "code",
   "execution_count": 18,
   "metadata": {},
   "outputs": [
    {
     "data": {
      "text/plain": [
       "'Unfortunately, the provided information does not offer explicit potential factors that could prevent a recession. However, it does mention that there have been discussions among central banks worldwide about the possible impact of the banking crisis, and some countries, such as India, have put any further interest rate hikes on hold. It is possible that central banks and governments could enact policies, such as monetary or fiscal policies, to mitigate the impact of the crisis and prevent a recession.'"
      ]
     },
     "execution_count": 18,
     "metadata": {},
     "output_type": "execute_result"
    }
   ],
   "source": [
    "assertion = await research_agent.prompt(inquery)\n",
    "assertion"
   ]
  },
  {
   "cell_type": "code",
   "execution_count": 19,
   "metadata": {},
   "outputs": [
    {
     "data": {
      "text/plain": [
       "'Can you provide examples of specific monetary or fiscal policies that have been successful in preventing a recession in the past?'"
      ]
     },
     "execution_count": 19,
     "metadata": {},
     "output_type": "execute_result"
    }
   ],
   "source": [
    "inquery = await skeptic_agent.prompt(assertion)\n",
    "inquery"
   ]
  },
  {
   "cell_type": "code",
   "execution_count": 20,
   "metadata": {},
   "outputs": [
    {
     "data": {
      "text/plain": [
       "'According to the information found, some examples of successful monetary and fiscal policies used to prevent a recession in the past include increasing the money supply, decreasing interest rates, increasing government spending, decreasing taxation, and adopting expansionary macroeconomic policies. One specific example is the use of expansionary monetary policy during the 2008 financial crisis, where the Federal Reserve decreased interest rates and implemented a quantitative easing program to increase the money supply and boost demand.'"
      ]
     },
     "execution_count": 20,
     "metadata": {},
     "output_type": "execute_result"
    }
   ],
   "source": [
    "assertion = await research_agent.prompt(inquery)\n",
    "assertion"
   ]
  },
  {
   "cell_type": "code",
   "execution_count": 21,
   "metadata": {},
   "outputs": [
    {
     "data": {
      "text/plain": [
       "'What evidence is there to suggest that these policies would work in the current economic climate given the unique circumstances of the COVID-19 pandemic?'"
      ]
     },
     "execution_count": 21,
     "metadata": {},
     "output_type": "execute_result"
    }
   ],
   "source": [
    "inquery = await skeptic_agent.prompt(assertion)\n",
    "inquery"
   ]
  },
  {
   "cell_type": "code",
   "execution_count": 22,
   "metadata": {},
   "outputs": [
    {
     "data": {
      "text/plain": [
       "'There is no specific information in the given texts regarding policies that would work in the current economic climate. However, multiple countries have announced stimulus programs to counter the effects of the recession caused by the pandemic, and some countries have seen a return to pre-pandemic growth levels. The texts also suggest that debt levels and pre-existing structural issues in certain economies may impact their ability to recover.'"
      ]
     },
     "execution_count": 22,
     "metadata": {},
     "output_type": "execute_result"
    }
   ],
   "source": [
    "assertion = await research_agent.prompt(inquery)\n",
    "assertion"
   ]
  },
  {
   "cell_type": "code",
   "execution_count": 23,
   "metadata": {},
   "outputs": [
    {
     "data": {
      "text/plain": [
       "'Yes.'"
      ]
     },
     "execution_count": 23,
     "metadata": {},
     "output_type": "execute_result"
    }
   ],
   "source": [
    "from core.agent.decision import DecisionAgent\n",
    "\n",
    "decision_agent = DecisionAgent(client)\n",
    "await decision_agent.transfer_memories(research_agent)\n",
    "\n",
    "await decision_agent.prompt(\"Will the US economy experience a recession in 2023?\")"
   ]
  }
 ],
 "metadata": {
  "kernelspec": {
   "display_name": "superintelligence-kEKUOLhR-py3.11",
   "language": "python",
   "name": "python3"
  },
  "language_info": {
   "codemirror_mode": {
    "name": "ipython",
    "version": 3
   },
   "file_extension": ".py",
   "mimetype": "text/x-python",
   "name": "python",
   "nbconvert_exporter": "python",
   "pygments_lexer": "ipython3",
   "version": "3.11.3"
  },
  "orig_nbformat": 4
 },
 "nbformat": 4,
 "nbformat_minor": 2
}
