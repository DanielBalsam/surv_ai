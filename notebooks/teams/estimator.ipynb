{
 "cells": [
  {
   "cell_type": "code",
   "execution_count": 1,
   "metadata": {},
   "outputs": [],
   "source": [
    "import os\n",
    "import sys\n",
    "module_path = os.path.abspath(os.path.join('../..'))\n",
    "if module_path not in sys.path:\n",
    "    sys.path.append(module_path)"
   ]
  },
  {
   "cell_type": "code",
   "execution_count": 2,
   "metadata": {},
   "outputs": [],
   "source": [
    "from lib.language.gpt import GPTClient\n",
    "from dotenv import load_dotenv\n",
    "from lib.language.interfaces import Prompt, PromptMessage\n",
    "import os\n",
    "\n",
    "load_dotenv()\n",
    "\n",
    "API_KEY = os.environ[\"OPEN_AI_API_KEY\"]\n",
    "\n",
    "client = GPTClient(API_KEY, model=\"gpt-3.5-turbo-0301\")\n"
   ]
  },
  {
   "cell_type": "code",
   "execution_count": 3,
   "metadata": {},
   "outputs": [
    {
     "name": "stdout",
     "output_type": "stream",
     "text": [
      "Research agent: According to population projections, the United States is expected to have a population of 422-458 million in 2050, depending on immigration. This information was found on the Wikipedia page entitled Demographic history of the United States.\n",
      "Skeptic agent: Can you provide any other sources that confirm this population projection?\n",
      "Research agent: I'm sorry, I don't have that information. Would you like me to perform another search to try and find another source that confirms the population projection for the United States in 2050?\n",
      "Skeptic agent: Sure, what sources are you planning to use to find the population projection for the United States in 2050?\n",
      "Research agent: I searched multiple Wikipedia pages related to population projections and demographics to find information on the population projection for the United States in 2050. While one page did not explicitly provide a projection for 2050, another page stated that the United States is expected to have a population of 422-458 million in 2050, depending on immigration. Therefore, I used a combination of sources to arrive at my response.\n",
      "Skeptic agent: What are the potential factors that may affect the accuracy of the population projection for the United States in 2050?\n",
      "Moderator agent: Continue.\n",
      "Research agent: According to the information found, potential factors that may affect the accuracy of the population projection for the United States in 2050 include immigration patterns, regional disparities in local economies, and the difficulty of predicting birth and death rates far into the future. Censuses and population growth rates can also be irregular, which can lead to significant errors in projections.\n",
      "Skeptic agent: Can you provide more information on how the inconsistency of census data affects the accuracy of population projections?\n",
      "Research agent: The information available suggests that irregular censuses and rapidly changing population growth rates can significantly impact the accuracy of population projections. The accuracy of projections beyond the near future should also be taken with caution, as they are based on estimates and subject to change. Inconsistency in census data can inaccurately represent population size and demographics, leading to errors in projected growth rates.\n",
      "Skeptic agent: Can you provide an example of how irregular censuses have impacted the accuracy of population projections in a specific country?\n",
      "Research agent: According to information on various Wikipedia pages, the United States is projected to have a population of 422-458 million in 2050, depending on immigration.\n",
      "Skeptic agent: What are the factors that could impact immigration and cause the population projection to fall within the range of 422-458 million?\n",
      "Research agent: According to the information found, immigration patterns are a factor that may affect the accuracy of population projections for the United States in 2050. The range of 422-458 million is based on different assumptions about immigration, so changes in immigration patterns could shift the projected population toward one end of that range or the other.\n",
      "Skeptic agent: What specific factors could cause changes in immigration patterns?\n",
      "Research agent: Based on the information provided, specific factors that could cause changes in immigration patterns include changes in government policies and regulations surrounding immigration, shifts in global economic conditions and opportunities, changes in cultural and social attitudes toward immigrants, and changing patterns of conflict and instability in regions of the world.\n",
      "Skeptic agent: Can you provide any other factors besides changes in government policies that could cause changes in immigration patterns?\n",
      "Moderator agent: Off Topic.\n"
     ]
    },
    {
     "data": {
      "text/plain": [
       "'422-458 million.'"
      ]
     },
     "execution_count": 3,
     "metadata": {},
     "output_type": "execute_result"
    }
   ],
   "source": [
    "from core.teams.estimator import EstimatorTeam\n",
    "from core.tools.research.wikipedia import WikipediaTool\n",
    "from core.tools.toolbelt import Toolbelt\n",
    "\n",
    "team = EstimatorTeam(client, n_conversations=2, toolbelt=Toolbelt(client, [WikipediaTool(client, n_pages=5)]))\n",
    "\n",
    "await team.prompt(\"How many people will live in the United States in 2050?\")"
   ]
  }
 ],
 "metadata": {
  "kernelspec": {
   "display_name": "superintelligence-kEKUOLhR-py3.11",
   "language": "python",
   "name": "python3"
  },
  "language_info": {
   "codemirror_mode": {
    "name": "ipython",
    "version": 3
   },
   "file_extension": ".py",
   "mimetype": "text/x-python",
   "name": "python",
   "nbconvert_exporter": "python",
   "pygments_lexer": "ipython3",
   "version": "3.11.3"
  },
  "orig_nbformat": 4
 },
 "nbformat": 4,
 "nbformat_minor": 2
}
