{
 "cells": [
  {
   "cell_type": "code",
   "execution_count": 2,
   "metadata": {},
   "outputs": [],
   "source": [
    "import os\n",
    "import sys\n",
    "module_path = os.path.abspath(os.path.join('../..'))\n",
    "if module_path not in sys.path:\n",
    "    sys.path.append(module_path)"
   ]
  },
  {
   "cell_type": "code",
   "execution_count": 3,
   "metadata": {},
   "outputs": [
    {
     "data": {
      "text/plain": [
       "[Memory(text='New York Times article entitled \"In A.I. Race, Microsoft and Google Choose Speed Over Caution\": - Microsoft and Google are competing to control the next big thing in the tech industry, which is generative A.I. that powers chatbots.\\n- Both companies released their chatbots despite concerns raised by employees and ethicists about the potential risks of the technology.\\n- OpenAI, a San Francisco start-up working with Microsoft, released ChatGPT, a chatbot that has an estimated 100 million monthly users, which has led to a willingness at Microsoft and Google to take greater risks with their ethical guidelines.\\n- Regulators are already threatening to intervene, with the European Union proposing legislation to regulate A.I. and Italy temporarily banning ChatGPT.\\n- Researchers say Microsoft and Google are taking risks by releasing technology that even its developers don’t entirely understand.\\n- Both companies have built sophisticated filtering systems to weed out hate speech and content that could cause obvious harm, but concerns persist about the risks of larger A.I. models.\\n- Tension between the industry’s worriers and risk-takers played out publicly as more than 1,000 researchers and industry leaders called for a six-month pause in the development of powerful A.I. technology.\\n- Microsoft invested $1 billion in OpenAI in 2019 and has policies developed by its Office of Responsible A.I., but the guidelines were not consistently enforced or followed.\\n- Microsoft started breaking up its Ethics and Society team, which trained and consulted company product leaders to design and build responsibly, in the fall.\\n- Both Microsoft and Google are releasing new products at a frantic pace to fulfill their plans for generative A.I.', source='https://www.nytimes.com/2023/04/07/technology/ai-chatbots-google-microsoft.html')]"
      ]
     },
     "execution_count": 3,
     "metadata": {},
     "output_type": "execute_result"
    }
   ],
   "source": [
    "from core.tools.research.new_york_times import NewYorkTimesTool\n",
    "from lib.language.gpt import GPTClient\n",
    "\n",
    "tool = NewYorkTimesTool(GPTClient(os.getenv('OPEN_AI_API_KEY')), n_pages=1)\n",
    "\n",
    "await tool.use(\"Who is the leading company in the AI race?\", \"\", \"AI race leaders\")"
   ]
  }
 ],
 "metadata": {
  "kernelspec": {
   "display_name": "superintelligence-kEKUOLhR-py3.11",
   "language": "python",
   "name": "python3"
  },
  "language_info": {
   "codemirror_mode": {
    "name": "ipython",
    "version": 3
   },
   "file_extension": ".py",
   "mimetype": "text/x-python",
   "name": "python",
   "nbconvert_exporter": "python",
   "pygments_lexer": "ipython3",
   "version": "3.11.3"
  },
  "orig_nbformat": 4
 },
 "nbformat": 4,
 "nbformat_minor": 2
}
