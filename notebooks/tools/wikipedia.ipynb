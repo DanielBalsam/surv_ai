{
    "cells": [
        {
            "cell_type": "code",
            "execution_count": 1,
            "metadata": {},
            "outputs": [],
            "source": [
                "import os\n",
                "import sys\n",
                "module_path = os.path.abspath(os.path.join('../..'))\n",
                "if module_path not in sys.path:\n",
                "    sys.path.append(module_path)"
            ]
        },
        {
            "cell_type": "code",
            "execution_count": 2,
            "metadata": {},
            "outputs": [
                {
                    "name": "stdout",
                    "output_type": "stream",
                    "text": [
                        "Paris, Capital punishment in France, Palace of Versailles, List of capitals of France\n",
                        "\u001b[90m\u001b[2m......Retrieving Wikipedia page with title Paris......\n"
                    ]
                },
                {
                    "data": {
                        "text/plain": [
                            "[Knowledge(text=\"Wikipedia page entitled Paris: Paris is the capital of France and is located in the Île-de-France region. It is home to the national government and many important government ministries. Paris is also a major center of finance, diplomacy, commerce, fashion, gastronomy, and science. It has a rich cultural history and many historic monuments and buildings. The population of the Paris Region is estimated to be 12.271.794 inhabitants as of January 1, 2023. Additionally, Paris is known for its sports clubs, including Paris Saint-Germain F.C., Stade Français, and Racing 92. The city's largest stadium is the Stade de France in the commune of Saint-Denis.\", source='https://en.wikipedia.org/wiki/Paris')]"
                        ]
                    },
                    "execution_count": 2,
                    "metadata": {},
                    "output_type": "execute_result"
                }
            ],
            "source": [
                "from core.tools.research.wikipedia import WikipediaTool\n",
                "from lib.language.gpt import GPTClient\n",
                "\n",
                "tool = WikipediaTool(GPTClient(os.getenv('OPEN_AI_API_KEY')), n_pages=1)\n",
                "\n",
                "await tool.use(\"What is the capital of France?\", \"\", \"Capital of France\")"
            ]
        }
    ],
    "metadata": {
        "kernelspec": {
            "display_name": "superintelligence-kEKUOLhR-py3.11",
            "language": "python",
            "name": "python3"
        },
        "language_info": {
            "codemirror_mode": {
                "name": "ipython",
                "version": 3
            },
            "file_extension": ".py",
            "mimetype": "text/x-python",
            "name": "python",
            "nbconvert_exporter": "python",
            "pygments_lexer": "ipython3",
            "version": "3.11.3"
        },
        "orig_nbformat": 4
    },
    "nbformat": 4,
    "nbformat_minor": 2
}