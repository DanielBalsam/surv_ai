{
 "cells": [
  {
   "cell_type": "code",
   "execution_count": 1,
   "metadata": {},
   "outputs": [],
   "source": [
    "import os\n",
    "import sys\n",
    "module_path = os.path.abspath(os.path.join('../..'))\n",
    "if module_path not in sys.path:\n",
    "    sys.path.append(module_path)"
   ]
  },
  {
   "cell_type": "code",
   "execution_count": 2,
   "metadata": {},
   "outputs": [
    {
     "data": {
      "text/plain": [
       "[Memory(text='You searched the Wikipedia page entitled Paris: The capital of France is Paris, which is the seat of France\\'s national government and the residence of the President of the French Republic at the Élysée Palace and the Prime Minister at the Hôtel Matignon. The Paris region is also the leading region for economic activity in France, with a GDP of €742 billion and €59,400 per capita. Paris is known for its role in finance, diplomacy, commerce, fashion, gastronomy, and science, and is sometimes called \"the City of Light\". The city has an extensive road network and is the most important hub of France\\'s motorway network. Paris has rarely seen destruction by catastrophe or war, resulting in an accumulated wealth of history-rich monuments and buildings.', source='https://en.wikipedia.org/wiki/Paris')]"
      ]
     },
     "execution_count": 2,
     "metadata": {},
     "output_type": "execute_result"
    }
   ],
   "source": [
    "from core.tools.research.wikipedia import WikipediaTool\n",
    "from lib.language.gpt import GPTClient\n",
    "\n",
    "tool = WikipediaTool(GPTClient(os.getenv('OPEN_AI_API_KEY')), n_pages=1)\n",
    "\n",
    "await tool.use(\"What is the capital of France?\", \"\", \"Capital of France\")"
   ]
  }
 ],
 "metadata": {
  "kernelspec": {
   "display_name": "superintelligence-kEKUOLhR-py3.11",
   "language": "python",
   "name": "python3"
  },
  "language_info": {
   "codemirror_mode": {
    "name": "ipython",
    "version": 3
   },
   "file_extension": ".py",
   "mimetype": "text/x-python",
   "name": "python",
   "nbconvert_exporter": "python",
   "pygments_lexer": "ipython3",
   "version": "3.11.3"
  },
  "orig_nbformat": 4
 },
 "nbformat": 4,
 "nbformat_minor": 2
}
