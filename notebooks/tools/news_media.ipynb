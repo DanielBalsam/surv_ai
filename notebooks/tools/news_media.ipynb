{
    "cells": [
        {
            "cell_type": "code",
            "execution_count": 1,
            "metadata": {},
            "outputs": [],
            "source": [
                "import os\n",
                "import sys\n",
                "module_path = os.path.abspath(os.path.join('../..'))\n",
                "if module_path not in sys.path:\n",
                "    sys.path.append(module_path)"
            ]
        },
        {
            "cell_type": "code",
            "execution_count": 2,
            "metadata": {},
            "outputs": [],
            "source": [
                "from lib.language.gpt import GPTClient\n",
                "from dotenv import load_dotenv\n",
                "from lib.language.interfaces import Prompt, PromptMessage\n",
                "import os\n",
                "\n",
                "load_dotenv()\n",
                "\n",
                "API_KEY = os.environ[\"OPEN_AI_API_KEY\"]\n",
                "\n",
                "client = GPTClient(API_KEY)\n"
            ]
        },
        {
            "cell_type": "code",
            "execution_count": 3,
            "metadata": {},
            "outputs": [
                {
                    "name": "stdout",
                    "output_type": "stream",
                    "text": [
                        "{'www.washingtonpost.com': 1, 'www.nytimes.com': 1, 'www.wsj.com': 1, 'www.bloomberg.com': 1}\n"
                    ]
                },
                {
                    "data": {
                        "text/plain": [
                            "[Knowledge(text='Washington Post article entitled \"Federal Reserve slashes interest rates to zero as part of wide-ranging emergency intervention\": - The Federal Reserve has cut interest rates to zero as part of its effort to protect the economy from the impact of the coronavirus outbreak.\\n- The Fed will buy at least $700 billion in government and mortgage-related bonds as part of the emergency action to keep financial markets stable.\\n- The majority of the buying, at least $500 billion, will be U.S. Treasury bonds, while the rest will be mortgage-backed securities to stabilize home loans.\\n- The Fed is also restarting the quantitative easing program, in which the central bank buys hundreds of billions of dollars in bonds to further push down rates and keep markets flowing.\\n- Banks can now borrow from the Fed at a rate of 0.25 percent, a massive cut from the 1.75 percent rate that was in effect before. They can also borrow money from the central bank for up to 90 days.\\n- The ultra-low interest rates are expected to remain until the U.S. economy recovers from the coronavirus downturn.\\n- President Trump has been urging the Fed to take more action, including making the nation\\'s interest rates negative, which Powell said was unlikely to happen.\\n- The Fed had already implemented an emergency interest rate cut on March 3 and provided a $1.5 trillion injection into the bond market last week to ensure sufficient liquidity.', source='https://www.washingtonpost.com/business/2020/03/15/federal-reserve-slashes-interest-rates-zero-part-wide-ranging-emergency-intervention/')]"
                        ]
                    },
                    "execution_count": 3,
                    "metadata": {},
                    "output_type": "execute_result"
                }
            ],
            "source": [
                "from core.tools.research.news_media import NewsMediaTool\n",
                "from lib.language.gpt import GPTClient\n",
                "\n",
                "tool = NewsMediaTool(GPTClient(os.getenv('OPEN_AI_API_KEY')), n_pages=1, start_date=\"2020-01-01\", end_date=\"2020-05-01\")\n",
                "\n",
                "await tool.use(\"What is the current Federal interest rate in the United States?\", \"\", \"Federal interest rate\")"
            ]
        }
    ],
    "metadata": {
        "kernelspec": {
            "display_name": "superintelligence-kEKUOLhR-py3.11",
            "language": "python",
            "name": "python3"
        },
        "language_info": {
            "codemirror_mode": {
                "name": "ipython",
                "version": 3
            },
            "file_extension": ".py",
            "mimetype": "text/x-python",
            "name": "python",
            "nbconvert_exporter": "python",
            "pygments_lexer": "ipython3",
            "version": "3.11.3"
        },
        "orig_nbformat": 4
    },
    "nbformat": 4,
    "nbformat_minor": 2
}