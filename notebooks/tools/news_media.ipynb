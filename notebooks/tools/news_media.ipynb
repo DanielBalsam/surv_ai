{
 "cells": [
  {
   "cell_type": "code",
   "execution_count": 1,
   "metadata": {},
   "outputs": [],
   "source": [
    "import os\n",
    "import sys\n",
    "module_path = os.path.abspath(os.path.join('../..'))\n",
    "if module_path not in sys.path:\n",
    "    sys.path.append(module_path)"
   ]
  },
  {
   "cell_type": "code",
   "execution_count": 2,
   "metadata": {},
   "outputs": [],
   "source": [
    "from lib.language.gpt import GPTClient\n",
    "from dotenv import load_dotenv\n",
    "from lib.language.interfaces import Prompt, PromptMessage\n",
    "import os\n",
    "\n",
    "load_dotenv()\n",
    "\n",
    "API_KEY = os.environ[\"OPEN_AI_API_KEY\"]\n",
    "\n",
    "client = GPTClient(API_KEY)\n"
   ]
  },
  {
   "cell_type": "code",
   "execution_count": 7,
   "metadata": {},
   "outputs": [
    {
     "data": {
      "text/plain": [
       "[Memory(text='NPR article entitled \"Markets In Europe, Asia Plummet After Central Banks Slash Rates Amid Coronavirus\": The Federal Reserve has cut its key interest rate to near zero in response to the economic effects of the coronavirus pandemic. This marks the second emergency rate cut this month. The federal funds rate affects borrowing costs for credit cards, auto loans and other financial products. The Fed also stated it will increase its holdings of Treasurys by $500 billion and its holdings of agency mortgage-backed securities by $200 billion in an attempt to strengthen markets. Despite having significantly limited its policy tools with the rate cut, the Fed stated it would remain vigilant and prepared to adapt its plans as necessary.', source='https://www.npr.org/2020/03/15/816175414/fed-cuts-interest-rates-to-near-zero')]"
      ]
     },
     "execution_count": 7,
     "metadata": {},
     "output_type": "execute_result"
    }
   ],
   "source": [
    "from core.tools.research.news_media import NewsMediaTool\n",
    "from lib.language.gpt import GPTClient\n",
    "\n",
    "tool = NewsMediaTool(GPTClient(os.getenv('OPEN_AI_API_KEY')), n_pages=1, start_date=\"2020-01-01\", end_date=\"2020-05-01\")\n",
    "\n",
    "await tool.use(\"What is the current Federal interest rate in the United States?\", \"\", \"Federal interest rate\")"
   ]
  }
 ],
 "metadata": {
  "kernelspec": {
   "display_name": "superintelligence-kEKUOLhR-py3.11",
   "language": "python",
   "name": "python3"
  },
  "language_info": {
   "codemirror_mode": {
    "name": "ipython",
    "version": 3
   },
   "file_extension": ".py",
   "mimetype": "text/x-python",
   "name": "python",
   "nbconvert_exporter": "python",
   "pygments_lexer": "ipython3",
   "version": "3.11.3"
  },
  "orig_nbformat": 4
 },
 "nbformat": 4,
 "nbformat_minor": 2
}
