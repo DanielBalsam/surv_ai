{
 "cells": [
  {
   "cell_type": "code",
   "execution_count": 1,
   "metadata": {},
   "outputs": [],
   "source": [
    "import os\n",
    "import sys\n",
    "module_path = os.path.abspath(os.path.join('../..'))\n",
    "if module_path not in sys.path:\n",
    "    sys.path.append(module_path)"
   ]
  },
  {
   "cell_type": "code",
   "execution_count": 2,
   "metadata": {},
   "outputs": [
    {
     "name": "stdout",
     "output_type": "stream",
     "text": [
      "\u001b[90m\u001b[2m......Retrieving NYT page with headline N.B.A. Blames Economy for Hiring Freeze and Budget Cuts......\n",
      "['Advertisement', 'Supported by', 'In a memo, the league said it was “facing a very different economic reality than just one year ago.”', 'Send any friend a story', 'As a subscriber, you have 10 gift articles to give each month. Anyone can read what you share.', 'By Sopan Deb', 'The N.B.A., citing “economic headwinds,” instructed league office staff on Tuesday to reduce expenses and significantly limit hiring for the rest of the fiscal year, according to a memo obtained by The New York Times.', 'The memo, sent by Kyle J. Cavanaugh, a league executive, and David Haber, the league’s chief financial officer, told staffers to halt hiring, with limited exceptions, and cancel some off-site meetings or hold them virtually. Travel, entertainment and other expenses also will be cut, according to the memo.', '“Like other businesses in the U.S. and globally, the league office is not immune to macroeconomic pressures and taking steps to reduce expenses,” Mike Bass, an N.B.A. spokesman, said in a statement to The Times.', 'The memo said the N.B.A. was “facing a very different economic reality than just one year ago.” It continued, “We are seeing significant challenges to achieving our revenue budget with additional downside risk still in front of us.”', 'The N.B.A.’s next fiscal year begins in October, roughly lining up with the start of the 2023-24 regular season. Bass, the spokesman, did not address questions about which league initiatives would be affected by the cuts or if there would be layoffs.', 'The changes come just before the N.B.A. playoffs and a day after the league noted setting a record for attendance and sellouts for the 2022-23 regular season. On April 1, the league and the players’ union announced that they had tentatively reached a new collective bargaining agreement that would go into effect next season. The agreement, which awaits ratification by players and team owners, includes a midseason tournament with bonuses for players and another luxury tax tier for high-spending teams.', 'During negotiations, the Boston Celtics’ Jaylen Brown, an executive vice president in the union, told The Times that players wanted “more of a partnership” with the league, including the sharing of more of the N.B.A.’s revenue streams.', 'Over the past year, many companies, particularly in the technology sector, have commenced layoffs and other cost-cutting measures as the economy was hit with rising inflation and interest rate hikes. The N.B.A. is also not the only sports league that has aimed to reduce costs. The N.F.L. recently reduced staffing for its media arm. Walt Disney Company has begun laying off thousands of employees. ESPN, one of the N.B.A.’s broadcast partners, is a Disney subsidiary and is expected to be affected.', 'Last year, N.B.A. Commissioner Adam Silver said the league expected to take in roughly $10 billion in revenue for the 2021-22 season, between sponsors, television deals, attendance, merchandising and other revenue streams. The N.B.A.’s television deal with ESPN and Turner Sports expires after the 2024-25 season. The new deal, in a crowded marketplace that now includes streaming companies, is expected to provide a significant boost in league revenue.', 'The league had a round of layoffs in 2020 right as its season was about to restart at Walt Disney World in Florida in the early months of the coronavirus pandemic, though at the time the league said the cuts were unrelated to the pandemic and instead were aimed at future growth.', 'Advertisement']\n"
     ]
    },
    {
     "data": {
      "text/plain": [
       "[Memory(text='New York Times article entitled \"N.B.A. Blames Economy for Hiring Freeze and Budget Cuts\": The text does not provide information about the current Federal interest rate in the United States. It discusses cost-cutting measures being taken by the NBA due to economic headwinds and revenue challenges, including reducing expenses and limiting hiring. The league is not immune to macroeconomic pressures and is taking steps to reduce costs, and other companies, including Walt Disney and the NFL, have also been reducing staff. The NBA is expected to generate significant revenue from a new television deal, but the current challenges are impacting the league\\'s revenue budget.', source='https://www.nytimes.com/2023/04/11/sports/basketball/nba-budget-cuts.html')]"
      ]
     },
     "execution_count": 2,
     "metadata": {},
     "output_type": "execute_result"
    }
   ],
   "source": [
    "from core.tools.research.new_york_times import NewYorkTimesTool\n",
    "from lib.language.gpt import GPTClient\n",
    "\n",
    "tool = NewYorkTimesTool(GPTClient(os.getenv('OPEN_AI_API_KEY')), n_pages=1)\n",
    "\n",
    "await tool.use(\"What is the current Federal interest rate in the United States?\", \"\", \"Interest rate hike\")"
   ]
  }
 ],
 "metadata": {
  "kernelspec": {
   "display_name": "superintelligence-kEKUOLhR-py3.11",
   "language": "python",
   "name": "python3"
  },
  "language_info": {
   "codemirror_mode": {
    "name": "ipython",
    "version": 3
   },
   "file_extension": ".py",
   "mimetype": "text/x-python",
   "name": "python",
   "nbconvert_exporter": "python",
   "pygments_lexer": "ipython3",
   "version": "3.11.3"
  },
  "orig_nbformat": 4
 },
 "nbformat": 4,
 "nbformat_minor": 2
}
